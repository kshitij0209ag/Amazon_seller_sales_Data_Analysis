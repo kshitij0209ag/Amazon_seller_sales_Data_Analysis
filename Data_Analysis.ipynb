{
  "nbformat": 4,
  "nbformat_minor": 5,
  "metadata": {
    "kernelspec": {
      "display_name": "Python 3",
      "language": "python",
      "name": "python3"
    },
    "language_info": {
      "codemirror_mode": {
        "name": "ipython",
        "version": 3
      },
      "file_extension": ".py",
      "mimetype": "text/x-python",
      "name": "python",
      "nbconvert_exporter": "python",
      "pygments_lexer": "ipython3",
      "version": "3.8.1"
    },
    "colab": {
      "name": "Amazon-seller-sales-Data Analysis.ipynb",
      "provenance": [],
      "collapsed_sections": []
    }
  },
  "cells": [
    {
      "cell_type": "markdown",
      "metadata": {
        "id": "0a7047af"
      },
      "source": [
        "# Amazon-Seller-Sales- Data Analysis "
      ],
      "id": "0a7047af"
    },
    {
      "cell_type": "markdown",
      "metadata": {
        "id": "e28dba09"
      },
      "source": [
        "![image.png](attachment:image.png)"
      ],
      "id": "e28dba09"
    },
    {
      "cell_type": "markdown",
      "metadata": {
        "id": "9092bcee"
      },
      "source": [
        "# NumPy \n",
        "\n",
        "NumPy (or Numpy) is a Linear Algebra Library for Python, the reason it is so important for Data Science with Python is that almost all of the libraries in the PyData Ecosystem rely on NumPy as one of their main building blocks.\n",
        "\n",
        "Numpy is also incredibly fast, as it has bindings to C libraries. For more info on why you would want to use Arrays instead of lists, check out this great [StackOverflow post](http://stackoverflow.com/questions/993984/why-numpy-instead-of-python-lists).\n",
        "\n",
        "We will only learn the basics of NumPy, to get started we need to install it!"
      ],
      "id": "9092bcee"
    },
    {
      "cell_type": "markdown",
      "metadata": {
        "id": "4c1cd8df"
      },
      "source": [
        "## Installation Instructions\n",
        "\n",
        "**It is highly recommended you install Python using the Anaconda distribution to make sure all underlying dependencies (such as Linear Algebra libraries) all sync up with the use of a conda install. If you have Anaconda, install NumPy by going to your terminal or command prompt and typing:**\n",
        "    \n",
        "    conda install numpy\n",
        "    \n",
        "**If you do not have Anaconda and can not install it, please refer to [Numpy's official documentation on various installation instructions.](http://docs.scipy.org/doc/numpy-1.10.1/user/install.html)**"
      ],
      "id": "4c1cd8df"
    },
    {
      "cell_type": "markdown",
      "metadata": {
        "id": "0559ed0c"
      },
      "source": [
        "![image.png](attachment:image.png)"
      ],
      "id": "0559ed0c"
    },
    {
      "cell_type": "markdown",
      "metadata": {
        "id": "508a18b4"
      },
      "source": [
        "# Introduction to Pandas\n",
        "\n",
        "In this section of the course we will learn how to use pandas for data analysis. You can think of pandas as an extremely powerful version of Excel, with a lot more features. In this section of the course, you should go through the notebooks in this order:\n",
        "\n",
        "* Introduction to Pandas\n",
        "* Series\n",
        "* DataFrames\n",
        "* Missing Data\n",
        "* GroupBy\n",
        "* Merging,Joining,and Concatenating\n",
        "* Operations"
      ],
      "id": "508a18b4"
    },
    {
      "cell_type": "markdown",
      "metadata": {
        "id": "75a32a00"
      },
      "source": [
        "# Matplotlib\n",
        "\n",
        "![image-2.png](attachment:image-2.png)"
      ],
      "id": "75a32a00"
    },
    {
      "cell_type": "markdown",
      "metadata": {
        "id": "fd2d0474"
      },
      "source": [
        "# Matplotlib\n",
        "\n",
        "Matplotlib is one of the most popular Python packages used for data visualization. It is a cross-platform library for making 2D plots from data in arrays. It provides an object-oriented API that helps in embedding plots in applications using Python GUI toolkits such as PyQt, WxPythonotTkinter. It can be used in Python and IPython shells, Jupyter notebook and web application servers also.\n",
        "\n",
        "\n",
        "Matplotlib is written in Python and makes use of NumPy, the numerical mathematics extension of Python. We assume that the readers of this tutorial have basic knowledge of Python.\n",
        "\n",
        "\n"
      ],
      "id": "fd2d0474"
    },
    {
      "cell_type": "markdown",
      "metadata": {
        "id": "7e143823"
      },
      "source": [
        "# Downloading Amazon Order History Data"
      ],
      "id": "7e143823"
    },
    {
      "cell_type": "markdown",
      "metadata": {
        "id": "c2342a41"
      },
      "source": [
        "Amazon allows you to download pretty extensive reports on the orders you’ve made, although the available data only dates back to 2006. Still, if you’re a regular Amazon user, more than a decade of data is likely to contain some interesting insights!\n",
        "\n",
        "To get the data, clicking on this link while logged in should take us directly to the order reports download page. But if that doesn’t work, we can also navigate to that page directly: go to Amazon.com and click the Accounts and Lists button in the top right. On the next page, look for the Ordering and Shopping Preferences section, and click on the link under that heading that says “Download order reports”.\n",
        "\n",
        "If you’d like to work through this tutorial but would prefer not to use your own data, you can download the same anonymized data set we’re using for this tutorial."
      ],
      "id": "c2342a41"
    },
    {
      "cell_type": "markdown",
      "metadata": {
        "id": "c58b122e"
      },
      "source": [
        "![image.png](attachment:image.png)"
      ],
      "id": "c58b122e"
    },
    {
      "cell_type": "markdown",
      "metadata": {
        "id": "208d04e7"
      },
      "source": [
        "Amazon offers four different report types. For now, we’re going to download an Orders and shipments report, so select that option from the drop-down menu. Then, we can choose a start date and end date for the data we’d like to look at. To see all of Amazon’s stored data, we’ll need to set the Start Date to January 1, 2006. Then, we can click the little “Use today” button next to the End Date to automatically fill in today’s date"
      ],
      "id": "208d04e7"
    },
    {
      "cell_type": "markdown",
      "metadata": {
        "id": "3f1a9c50"
      },
      "source": [
        "![image.png](attachment:image.png)"
      ],
      "id": "3f1a9c50"
    },
    {
      "cell_type": "markdown",
      "metadata": {
        "id": "c880bc8d"
      },
      "source": [
        "Once everything is ready, click “Request Report” and Amazon will begin building the report for you.\n",
        "\n",
        "We’re almost ready to dive into a little programming and do our analysis. But first, let’s make things a little easier by renaming and moving that file we just downloaded. By default, this will probably be called something like 01_Jan_2006_to_10_Sept_2019.csv, but let’s rename it something simpler: amazon-orders.csv."
      ],
      "id": "c880bc8d"
    },
    {
      "cell_type": "markdown",
      "metadata": {
        "id": "434cb204"
      },
      "source": [
        "# Link for DataSet : \n",
        "https://drive.google.com/file/d/1ZzhlaxYp8nfaDDO1-fSrO_lxl8nYZuwM/view?usp=sharing"
      ],
      "id": "434cb204"
    },
    {
      "cell_type": "markdown",
      "metadata": {
        "id": "952743f6"
      },
      "source": [
        "# Getting the Data into Pandas"
      ],
      "id": "952743f6"
    },
    {
      "cell_type": "markdown",
      "metadata": {
        "id": "68b2d5c6"
      },
      "source": [
        "Our first step will be to write the code to open and look at our Amazon data, so that we can see what we’re working with. We’ll be using pandas for most of our analysis\n",
        ", so our first step will be to import the pandas package and give it the nickname pd so that we can refer to it more easily in our code.\n",
        "\n",
        "Finally, we’ll use a pandas function called .head() to look at the first five rows our our data, which will give us a taste of what we’re working with, and what kinds of data Amazon’s order history includes."
      ],
      "id": "68b2d5c6"
    },
    {
      "cell_type": "code",
      "metadata": {
        "colab": {
          "base_uri": "https://localhost:8080/",
          "height": 758
        },
        "id": "af2fa382",
        "outputId": "fe7f1bc2-5373-4775-cd2f-3dc2b22be96d"
      },
      "source": [
        "import pandas as pd\n",
        "\n",
        "df = pd.read_csv('amazon_orders.csv')\n",
        "df.head(10)"
      ],
      "id": "af2fa382",
      "execution_count": 3,
      "outputs": [
        {
          "output_type": "execute_result",
          "data": {
            "text/html": [
              "<div>\n",
              "<style scoped>\n",
              "    .dataframe tbody tr th:only-of-type {\n",
              "        vertical-align: middle;\n",
              "    }\n",
              "\n",
              "    .dataframe tbody tr th {\n",
              "        vertical-align: top;\n",
              "    }\n",
              "\n",
              "    .dataframe thead th {\n",
              "        text-align: right;\n",
              "    }\n",
              "</style>\n",
              "<table border=\"1\" class=\"dataframe\">\n",
              "  <thead>\n",
              "    <tr style=\"text-align: right;\">\n",
              "      <th></th>\n",
              "      <th>Order Date</th>\n",
              "      <th>Order ID</th>\n",
              "      <th>Payment Instrument Type</th>\n",
              "      <th>Website</th>\n",
              "      <th>Purchase Order Number</th>\n",
              "      <th>Ordering Customer Email</th>\n",
              "      <th>Shipment Date</th>\n",
              "      <th>Shipping Address Name</th>\n",
              "      <th>Shipping Address Street 1</th>\n",
              "      <th>Shipping Address Street 2</th>\n",
              "      <th>Shipping Address City</th>\n",
              "      <th>Shipping Address State</th>\n",
              "      <th>Shipping Address Zip</th>\n",
              "      <th>Order Status</th>\n",
              "      <th>Carrier Name &amp; Tracking Number</th>\n",
              "      <th>Subtotal</th>\n",
              "      <th>Shipping Charge</th>\n",
              "      <th>Tax Before Promotions</th>\n",
              "      <th>Total Promotions</th>\n",
              "      <th>Tax Charged</th>\n",
              "      <th>Total Charged</th>\n",
              "      <th>Buyer Name</th>\n",
              "      <th>Group Name</th>\n",
              "    </tr>\n",
              "  </thead>\n",
              "  <tbody>\n",
              "    <tr>\n",
              "      <th>0</th>\n",
              "      <td>04/01/19</td>\n",
              "      <td>112-0000000-0000001</td>\n",
              "      <td>Visa - 0001</td>\n",
              "      <td>Amazon.com</td>\n",
              "      <td>NaN</td>\n",
              "      <td>your_email@gmail.com</td>\n",
              "      <td>04/01/19</td>\n",
              "      <td>Your Name</td>\n",
              "      <td>1 YOUR STREET</td>\n",
              "      <td>NaN</td>\n",
              "      <td>ANYTOWN</td>\n",
              "      <td>ME</td>\n",
              "      <td>00001-0001</td>\n",
              "      <td>Shipped</td>\n",
              "      <td>USPS(0001)</td>\n",
              "      <td>$35.00</td>\n",
              "      <td>$0.00</td>\n",
              "      <td>$1.93</td>\n",
              "      <td>$0.00</td>\n",
              "      <td>$1.93</td>\n",
              "      <td>$36.93</td>\n",
              "      <td>Your Name</td>\n",
              "      <td>NaN</td>\n",
              "    </tr>\n",
              "    <tr>\n",
              "      <th>1</th>\n",
              "      <td>04/01/19</td>\n",
              "      <td>112-0000000-0000002</td>\n",
              "      <td>Visa - 0001</td>\n",
              "      <td>Amazon.com</td>\n",
              "      <td>NaN</td>\n",
              "      <td>your_email@gmail.com</td>\n",
              "      <td>04/01/19</td>\n",
              "      <td>Your Name</td>\n",
              "      <td>1 YOUR STREET</td>\n",
              "      <td>NaN</td>\n",
              "      <td>ANYTOWN</td>\n",
              "      <td>ME</td>\n",
              "      <td>00001-0001</td>\n",
              "      <td>Shipped</td>\n",
              "      <td>USPS(0001)</td>\n",
              "      <td>$16.99</td>\n",
              "      <td>$0.00</td>\n",
              "      <td>$0.00</td>\n",
              "      <td>$0.00</td>\n",
              "      <td>$0.00</td>\n",
              "      <td>$16.99</td>\n",
              "      <td>Your Name</td>\n",
              "      <td>NaN</td>\n",
              "    </tr>\n",
              "    <tr>\n",
              "      <th>2</th>\n",
              "      <td>04/01/19</td>\n",
              "      <td>112-0000000-0000003</td>\n",
              "      <td>Visa - 0001</td>\n",
              "      <td>Amazon.com</td>\n",
              "      <td>NaN</td>\n",
              "      <td>your_email@gmail.com</td>\n",
              "      <td>04/01/19</td>\n",
              "      <td>Your Name</td>\n",
              "      <td>1 YOUR STREET</td>\n",
              "      <td>NaN</td>\n",
              "      <td>ANYTOWN</td>\n",
              "      <td>ME</td>\n",
              "      <td>00001-0001</td>\n",
              "      <td>Shipped</td>\n",
              "      <td>USPS(0001)</td>\n",
              "      <td>$9.99</td>\n",
              "      <td>$0.00</td>\n",
              "      <td>$0.00</td>\n",
              "      <td>$0.00</td>\n",
              "      <td>$0.00</td>\n",
              "      <td>$9.99</td>\n",
              "      <td>Your Name</td>\n",
              "      <td>NaN</td>\n",
              "    </tr>\n",
              "    <tr>\n",
              "      <th>3</th>\n",
              "      <td>04/04/19</td>\n",
              "      <td>112-0000000-0000004</td>\n",
              "      <td>Visa - 0001</td>\n",
              "      <td>Amazon.com</td>\n",
              "      <td>NaN</td>\n",
              "      <td>your_email@gmail.com</td>\n",
              "      <td>04/05/19</td>\n",
              "      <td>Your Name</td>\n",
              "      <td>1 YOUR STREET</td>\n",
              "      <td>NaN</td>\n",
              "      <td>ANYTOWN</td>\n",
              "      <td>ME</td>\n",
              "      <td>00001-0001</td>\n",
              "      <td>Shipped</td>\n",
              "      <td>UPS(0002)</td>\n",
              "      <td>$147.98</td>\n",
              "      <td>$0.00</td>\n",
              "      <td>$8.14</td>\n",
              "      <td>$0.00</td>\n",
              "      <td>$8.14</td>\n",
              "      <td>$156.12</td>\n",
              "      <td>Your Name</td>\n",
              "      <td>NaN</td>\n",
              "    </tr>\n",
              "    <tr>\n",
              "      <th>4</th>\n",
              "      <td>04/05/19</td>\n",
              "      <td>112-0000000-0000005</td>\n",
              "      <td>Visa - 0001</td>\n",
              "      <td>Amazon.com</td>\n",
              "      <td>NaN</td>\n",
              "      <td>your_email@gmail.com</td>\n",
              "      <td>04/07/19</td>\n",
              "      <td>Your Name</td>\n",
              "      <td>1 YOUR STREET</td>\n",
              "      <td>NaN</td>\n",
              "      <td>ANYTOWN</td>\n",
              "      <td>ME</td>\n",
              "      <td>00001-0001</td>\n",
              "      <td>Shipped</td>\n",
              "      <td>USPS(0001)</td>\n",
              "      <td>$14.99</td>\n",
              "      <td>$0.00</td>\n",
              "      <td>$0.00</td>\n",
              "      <td>$0.00</td>\n",
              "      <td>$0.00</td>\n",
              "      <td>$14.99</td>\n",
              "      <td>Your Name</td>\n",
              "      <td>NaN</td>\n",
              "    </tr>\n",
              "    <tr>\n",
              "      <th>5</th>\n",
              "      <td>04/05/19</td>\n",
              "      <td>112-0000000-0000006</td>\n",
              "      <td>Visa - 0001</td>\n",
              "      <td>Amazon.com</td>\n",
              "      <td>NaN</td>\n",
              "      <td>your_email@gmail.com</td>\n",
              "      <td>04/08/19</td>\n",
              "      <td>Your Name</td>\n",
              "      <td>1 YOUR STREET</td>\n",
              "      <td>NaN</td>\n",
              "      <td>ANYTOWN</td>\n",
              "      <td>ME</td>\n",
              "      <td>00001-0001</td>\n",
              "      <td>Shipped</td>\n",
              "      <td>USPS(0001)</td>\n",
              "      <td>$11.99</td>\n",
              "      <td>$0.00</td>\n",
              "      <td>$0.66</td>\n",
              "      <td>$0.00</td>\n",
              "      <td>$0.66</td>\n",
              "      <td>$12.65</td>\n",
              "      <td>Your Name</td>\n",
              "      <td>NaN</td>\n",
              "    </tr>\n",
              "    <tr>\n",
              "      <th>6</th>\n",
              "      <td>04/07/19</td>\n",
              "      <td>112-0000000-0000007</td>\n",
              "      <td>Visa - 0001</td>\n",
              "      <td>Amazon.com</td>\n",
              "      <td>NaN</td>\n",
              "      <td>your_email@gmail.com</td>\n",
              "      <td>04/08/19</td>\n",
              "      <td>Your Name</td>\n",
              "      <td>1 YOUR STREET</td>\n",
              "      <td>NaN</td>\n",
              "      <td>ANYTOWN</td>\n",
              "      <td>ME</td>\n",
              "      <td>00001-0001</td>\n",
              "      <td>Shipped</td>\n",
              "      <td>USPS(0001)</td>\n",
              "      <td>$38.98</td>\n",
              "      <td>$0.00</td>\n",
              "      <td>$1.65</td>\n",
              "      <td>$0.00</td>\n",
              "      <td>$1.65</td>\n",
              "      <td>$40.63</td>\n",
              "      <td>Your Name</td>\n",
              "      <td>NaN</td>\n",
              "    </tr>\n",
              "    <tr>\n",
              "      <th>7</th>\n",
              "      <td>04/08/19</td>\n",
              "      <td>112-0000000-0000008</td>\n",
              "      <td>Visa - 0001</td>\n",
              "      <td>Amazon.com</td>\n",
              "      <td>NaN</td>\n",
              "      <td>your_email@gmail.com</td>\n",
              "      <td>04/08/19</td>\n",
              "      <td>Your Name</td>\n",
              "      <td>1 YOUR STREET</td>\n",
              "      <td>NaN</td>\n",
              "      <td>ANYTOWN</td>\n",
              "      <td>ME</td>\n",
              "      <td>00001-0001</td>\n",
              "      <td>Shipped</td>\n",
              "      <td>UPS(0002)</td>\n",
              "      <td>$44.99</td>\n",
              "      <td>$0.00</td>\n",
              "      <td>$0.00</td>\n",
              "      <td>$0.00</td>\n",
              "      <td>$0.00</td>\n",
              "      <td>$44.99</td>\n",
              "      <td>Your Name</td>\n",
              "      <td>NaN</td>\n",
              "    </tr>\n",
              "    <tr>\n",
              "      <th>8</th>\n",
              "      <td>04/20/19</td>\n",
              "      <td>112-0000000-0000009</td>\n",
              "      <td>Visa - 0001</td>\n",
              "      <td>Amazon.com</td>\n",
              "      <td>NaN</td>\n",
              "      <td>your_email@gmail.com</td>\n",
              "      <td>04/21/19</td>\n",
              "      <td>Your Name</td>\n",
              "      <td>1 YOUR STREET</td>\n",
              "      <td>NaN</td>\n",
              "      <td>ANYTOWN</td>\n",
              "      <td>ME</td>\n",
              "      <td>00001-0001</td>\n",
              "      <td>Shipped</td>\n",
              "      <td>USPS(0001)</td>\n",
              "      <td>$27.30</td>\n",
              "      <td>$0.00</td>\n",
              "      <td>$1.50</td>\n",
              "      <td>$0.00</td>\n",
              "      <td>$1.50</td>\n",
              "      <td>$28.80</td>\n",
              "      <td>Your Name</td>\n",
              "      <td>NaN</td>\n",
              "    </tr>\n",
              "    <tr>\n",
              "      <th>9</th>\n",
              "      <td>04/23/19</td>\n",
              "      <td>112-0000000-0000010</td>\n",
              "      <td>Visa - 0001</td>\n",
              "      <td>Amazon.com</td>\n",
              "      <td>NaN</td>\n",
              "      <td>your_email@gmail.com</td>\n",
              "      <td>04/24/19</td>\n",
              "      <td>Your Name</td>\n",
              "      <td>1 YOUR STREET</td>\n",
              "      <td>NaN</td>\n",
              "      <td>ANYTOWN</td>\n",
              "      <td>ME</td>\n",
              "      <td>00001-0001</td>\n",
              "      <td>Shipped</td>\n",
              "      <td>UPS(0002)</td>\n",
              "      <td>$37.08</td>\n",
              "      <td>$0.00</td>\n",
              "      <td>$0.00</td>\n",
              "      <td>$0.00</td>\n",
              "      <td>$0.00</td>\n",
              "      <td>$37.08</td>\n",
              "      <td>Your Name</td>\n",
              "      <td>NaN</td>\n",
              "    </tr>\n",
              "  </tbody>\n",
              "</table>\n",
              "</div>"
            ],
            "text/plain": [
              "  Order Date             Order ID  ... Buyer Name Group Name\n",
              "0   04/01/19  112-0000000-0000001  ...  Your Name        NaN\n",
              "1   04/01/19  112-0000000-0000002  ...  Your Name        NaN\n",
              "2   04/01/19  112-0000000-0000003  ...  Your Name        NaN\n",
              "3   04/04/19  112-0000000-0000004  ...  Your Name        NaN\n",
              "4   04/05/19  112-0000000-0000005  ...  Your Name        NaN\n",
              "5   04/05/19  112-0000000-0000006  ...  Your Name        NaN\n",
              "6   04/07/19  112-0000000-0000007  ...  Your Name        NaN\n",
              "7   04/08/19  112-0000000-0000008  ...  Your Name        NaN\n",
              "8   04/20/19  112-0000000-0000009  ...  Your Name        NaN\n",
              "9   04/23/19  112-0000000-0000010  ...  Your Name        NaN\n",
              "\n",
              "[10 rows x 23 columns]"
            ]
          },
          "metadata": {},
          "execution_count": 3
        }
      ]
    },
    {
      "cell_type": "code",
      "metadata": {
        "colab": {
          "base_uri": "https://localhost:8080/"
        },
        "id": "c953c6f5",
        "outputId": "c630b7a7-e740-487a-d3ff-b4ef1f2e96ec"
      },
      "source": [
        "df.shape"
      ],
      "id": "c953c6f5",
      "execution_count": 4,
      "outputs": [
        {
          "output_type": "execute_result",
          "data": {
            "text/plain": [
              "(59, 23)"
            ]
          },
          "metadata": {},
          "execution_count": 4
        }
      ]
    },
    {
      "cell_type": "markdown",
      "metadata": {
        "id": "fa0214cb"
      },
      "source": [
        "# Cleaning the Data"
      ],
      "id": "fa0214cb"
    },
    {
      "cell_type": "markdown",
      "metadata": {
        "id": "b406dde4"
      },
      "source": [
        "Cleaning the data is an important part of most data analysis projects, and we’ll need to do a little bit of data cleaning here before we can do our analysis and find out the total sum we’ve spent on Amazon.\n",
        "\n",
        "Let’s start by dealing with those NaN values. We need to do some math with our data, but 1 + NaN is a tough math problem to solve. NaN, after all, isn’t a number! Since NaN represents the absence of information, let’s just fill in all of those NaN values using pandas’s handy df.fillna() function. This allows us to automatically replace every NaN value with something else. In this case, let’s replace NaN with the number zero.\n",
        "\n",
        "We need to be a little careful here, though. We don’t just want to replace those values temporarily! We want to replace them and then store that version of the DataFrame as our new DataFrame. We’ll use df = df.fillna(0) to replace the values and re-define our df variable to point to that new dataframe.\n",
        "\n",
        "Then, we’ll use the .head() function again to make sure our changes worked.\n"
      ],
      "id": "b406dde4"
    },
    {
      "cell_type": "code",
      "metadata": {
        "colab": {
          "base_uri": "https://localhost:8080/"
        },
        "id": "4a37238b",
        "outputId": "63600f86-88a7-4bc5-8858-28d539e54531"
      },
      "source": [
        "df.isnull().sum()"
      ],
      "id": "4a37238b",
      "execution_count": 5,
      "outputs": [
        {
          "output_type": "execute_result",
          "data": {
            "text/plain": [
              "Order Date                         0\n",
              "Order ID                           0\n",
              "Payment Instrument Type            0\n",
              "Website                            0\n",
              "Purchase Order Number             59\n",
              "Ordering Customer Email            0\n",
              "Shipment Date                      0\n",
              "Shipping Address Name              0\n",
              "Shipping Address Street 1          0\n",
              "Shipping Address Street 2         59\n",
              "Shipping Address City              0\n",
              "Shipping Address State             0\n",
              "Shipping Address Zip               0\n",
              "Order Status                       0\n",
              "Carrier Name & Tracking Number     0\n",
              "Subtotal                           0\n",
              "Shipping Charge                    0\n",
              "Tax Before Promotions              0\n",
              "Total Promotions                   0\n",
              "Tax Charged                        0\n",
              "Total Charged                      0\n",
              "Buyer Name                         0\n",
              "Group Name                        59\n",
              "dtype: int64"
            ]
          },
          "metadata": {},
          "execution_count": 5
        }
      ]
    },
    {
      "cell_type": "code",
      "metadata": {
        "colab": {
          "base_uri": "https://localhost:8080/",
          "height": 438
        },
        "id": "ba23eef7",
        "outputId": "cca0aea5-d26b-4be7-93af-8de2b0281718"
      },
      "source": [
        "df = df.fillna(0)\n",
        "df.head()"
      ],
      "id": "ba23eef7",
      "execution_count": 6,
      "outputs": [
        {
          "output_type": "execute_result",
          "data": {
            "text/html": [
              "<div>\n",
              "<style scoped>\n",
              "    .dataframe tbody tr th:only-of-type {\n",
              "        vertical-align: middle;\n",
              "    }\n",
              "\n",
              "    .dataframe tbody tr th {\n",
              "        vertical-align: top;\n",
              "    }\n",
              "\n",
              "    .dataframe thead th {\n",
              "        text-align: right;\n",
              "    }\n",
              "</style>\n",
              "<table border=\"1\" class=\"dataframe\">\n",
              "  <thead>\n",
              "    <tr style=\"text-align: right;\">\n",
              "      <th></th>\n",
              "      <th>Order Date</th>\n",
              "      <th>Order ID</th>\n",
              "      <th>Payment Instrument Type</th>\n",
              "      <th>Website</th>\n",
              "      <th>Purchase Order Number</th>\n",
              "      <th>Ordering Customer Email</th>\n",
              "      <th>Shipment Date</th>\n",
              "      <th>Shipping Address Name</th>\n",
              "      <th>Shipping Address Street 1</th>\n",
              "      <th>Shipping Address Street 2</th>\n",
              "      <th>Shipping Address City</th>\n",
              "      <th>Shipping Address State</th>\n",
              "      <th>Shipping Address Zip</th>\n",
              "      <th>Order Status</th>\n",
              "      <th>Carrier Name &amp; Tracking Number</th>\n",
              "      <th>Subtotal</th>\n",
              "      <th>Shipping Charge</th>\n",
              "      <th>Tax Before Promotions</th>\n",
              "      <th>Total Promotions</th>\n",
              "      <th>Tax Charged</th>\n",
              "      <th>Total Charged</th>\n",
              "      <th>Buyer Name</th>\n",
              "      <th>Group Name</th>\n",
              "    </tr>\n",
              "  </thead>\n",
              "  <tbody>\n",
              "    <tr>\n",
              "      <th>0</th>\n",
              "      <td>04/01/19</td>\n",
              "      <td>112-0000000-0000001</td>\n",
              "      <td>Visa - 0001</td>\n",
              "      <td>Amazon.com</td>\n",
              "      <td>0.0</td>\n",
              "      <td>your_email@gmail.com</td>\n",
              "      <td>04/01/19</td>\n",
              "      <td>Your Name</td>\n",
              "      <td>1 YOUR STREET</td>\n",
              "      <td>0.0</td>\n",
              "      <td>ANYTOWN</td>\n",
              "      <td>ME</td>\n",
              "      <td>00001-0001</td>\n",
              "      <td>Shipped</td>\n",
              "      <td>USPS(0001)</td>\n",
              "      <td>$35.00</td>\n",
              "      <td>$0.00</td>\n",
              "      <td>$1.93</td>\n",
              "      <td>$0.00</td>\n",
              "      <td>$1.93</td>\n",
              "      <td>$36.93</td>\n",
              "      <td>Your Name</td>\n",
              "      <td>0.0</td>\n",
              "    </tr>\n",
              "    <tr>\n",
              "      <th>1</th>\n",
              "      <td>04/01/19</td>\n",
              "      <td>112-0000000-0000002</td>\n",
              "      <td>Visa - 0001</td>\n",
              "      <td>Amazon.com</td>\n",
              "      <td>0.0</td>\n",
              "      <td>your_email@gmail.com</td>\n",
              "      <td>04/01/19</td>\n",
              "      <td>Your Name</td>\n",
              "      <td>1 YOUR STREET</td>\n",
              "      <td>0.0</td>\n",
              "      <td>ANYTOWN</td>\n",
              "      <td>ME</td>\n",
              "      <td>00001-0001</td>\n",
              "      <td>Shipped</td>\n",
              "      <td>USPS(0001)</td>\n",
              "      <td>$16.99</td>\n",
              "      <td>$0.00</td>\n",
              "      <td>$0.00</td>\n",
              "      <td>$0.00</td>\n",
              "      <td>$0.00</td>\n",
              "      <td>$16.99</td>\n",
              "      <td>Your Name</td>\n",
              "      <td>0.0</td>\n",
              "    </tr>\n",
              "    <tr>\n",
              "      <th>2</th>\n",
              "      <td>04/01/19</td>\n",
              "      <td>112-0000000-0000003</td>\n",
              "      <td>Visa - 0001</td>\n",
              "      <td>Amazon.com</td>\n",
              "      <td>0.0</td>\n",
              "      <td>your_email@gmail.com</td>\n",
              "      <td>04/01/19</td>\n",
              "      <td>Your Name</td>\n",
              "      <td>1 YOUR STREET</td>\n",
              "      <td>0.0</td>\n",
              "      <td>ANYTOWN</td>\n",
              "      <td>ME</td>\n",
              "      <td>00001-0001</td>\n",
              "      <td>Shipped</td>\n",
              "      <td>USPS(0001)</td>\n",
              "      <td>$9.99</td>\n",
              "      <td>$0.00</td>\n",
              "      <td>$0.00</td>\n",
              "      <td>$0.00</td>\n",
              "      <td>$0.00</td>\n",
              "      <td>$9.99</td>\n",
              "      <td>Your Name</td>\n",
              "      <td>0.0</td>\n",
              "    </tr>\n",
              "    <tr>\n",
              "      <th>3</th>\n",
              "      <td>04/04/19</td>\n",
              "      <td>112-0000000-0000004</td>\n",
              "      <td>Visa - 0001</td>\n",
              "      <td>Amazon.com</td>\n",
              "      <td>0.0</td>\n",
              "      <td>your_email@gmail.com</td>\n",
              "      <td>04/05/19</td>\n",
              "      <td>Your Name</td>\n",
              "      <td>1 YOUR STREET</td>\n",
              "      <td>0.0</td>\n",
              "      <td>ANYTOWN</td>\n",
              "      <td>ME</td>\n",
              "      <td>00001-0001</td>\n",
              "      <td>Shipped</td>\n",
              "      <td>UPS(0002)</td>\n",
              "      <td>$147.98</td>\n",
              "      <td>$0.00</td>\n",
              "      <td>$8.14</td>\n",
              "      <td>$0.00</td>\n",
              "      <td>$8.14</td>\n",
              "      <td>$156.12</td>\n",
              "      <td>Your Name</td>\n",
              "      <td>0.0</td>\n",
              "    </tr>\n",
              "    <tr>\n",
              "      <th>4</th>\n",
              "      <td>04/05/19</td>\n",
              "      <td>112-0000000-0000005</td>\n",
              "      <td>Visa - 0001</td>\n",
              "      <td>Amazon.com</td>\n",
              "      <td>0.0</td>\n",
              "      <td>your_email@gmail.com</td>\n",
              "      <td>04/07/19</td>\n",
              "      <td>Your Name</td>\n",
              "      <td>1 YOUR STREET</td>\n",
              "      <td>0.0</td>\n",
              "      <td>ANYTOWN</td>\n",
              "      <td>ME</td>\n",
              "      <td>00001-0001</td>\n",
              "      <td>Shipped</td>\n",
              "      <td>USPS(0001)</td>\n",
              "      <td>$14.99</td>\n",
              "      <td>$0.00</td>\n",
              "      <td>$0.00</td>\n",
              "      <td>$0.00</td>\n",
              "      <td>$0.00</td>\n",
              "      <td>$14.99</td>\n",
              "      <td>Your Name</td>\n",
              "      <td>0.0</td>\n",
              "    </tr>\n",
              "  </tbody>\n",
              "</table>\n",
              "</div>"
            ],
            "text/plain": [
              "  Order Date             Order ID  ... Buyer Name Group Name\n",
              "0   04/01/19  112-0000000-0000001  ...  Your Name        0.0\n",
              "1   04/01/19  112-0000000-0000002  ...  Your Name        0.0\n",
              "2   04/01/19  112-0000000-0000003  ...  Your Name        0.0\n",
              "3   04/04/19  112-0000000-0000004  ...  Your Name        0.0\n",
              "4   04/05/19  112-0000000-0000005  ...  Your Name        0.0\n",
              "\n",
              "[5 rows x 23 columns]"
            ]
          },
          "metadata": {},
          "execution_count": 6
        }
      ]
    },
    {
      "cell_type": "markdown",
      "metadata": {
        "id": "b1203b54"
      },
      "source": [
        " Great! As we can see, our null values have all been replaced with zeroes, which is going to make doing calculations easier.\n",
        "\n",
        "We still have a little data cleaning problem, though. The prices in this data set have been stored as strings, which means the computer is seeing them as a series of characters, rather than numbers that it can add together. They also include the character $, which isn’t a number.\n",
        "\n",
        "Before we can perform calculations with these values, we need to remove those dollar signs, and then we need to turn the string values into floats — a numeric data type that Python can easily perform calculations on. Thankfully, these operations will require just a few more lines of code.\n",
        "\n",
        "Specifically, there are two pandas functions we can use. The first, Series.str.replace() allows us to replace one character or set of characters with another in any column (called a Series in pandas) of a dataframe. For our purposes, this is helpful because we can use the syntax df[\"Total Charged\"].str.replace('$','') to tell Python to replace what’s inside of the first set of ” ($) that’s in the “Total Charged” column with what’s inside of the second set (nothing).\n",
        "\n",
        "In other words, we’re telling pandas to replace the character $ with nothing in that column. That way, all that will be left is the numbers. Once we just have numbers in the column, we can use the function .astype(float) to convert each entry in the column into the float type so that we can do our math.\n",
        "\n",
        "Once again, we don’t want to make these changes temporarily, we want to modify our DataFrame and then point our df variable to that new version of the DataFrame. However, since this time we’re only modifying one column of the data, we’ll use df[\"Total Charged\"] to specify that we only want to make these changes in that column.\n",
        "\n",
        "Now, let’s put it all together, and then once again use head() to check our work on the next line."
      ],
      "id": "b1203b54"
    },
    {
      "cell_type": "code",
      "metadata": {
        "id": "e46892ec"
      },
      "source": [
        ""
      ],
      "id": "e46892ec",
      "execution_count": 6,
      "outputs": []
    },
    {
      "cell_type": "code",
      "metadata": {
        "colab": {
          "base_uri": "https://localhost:8080/",
          "height": 438
        },
        "id": "11ac1dec",
        "outputId": "2acfb6d6-256b-46c1-8813-540ab3de87ed"
      },
      "source": [
        "df[\"Total Charged\"] = df[\"Total Charged\"].str.replace('$','').astype(float)\n",
        "df.head()\n"
      ],
      "id": "11ac1dec",
      "execution_count": 7,
      "outputs": [
        {
          "output_type": "execute_result",
          "data": {
            "text/html": [
              "<div>\n",
              "<style scoped>\n",
              "    .dataframe tbody tr th:only-of-type {\n",
              "        vertical-align: middle;\n",
              "    }\n",
              "\n",
              "    .dataframe tbody tr th {\n",
              "        vertical-align: top;\n",
              "    }\n",
              "\n",
              "    .dataframe thead th {\n",
              "        text-align: right;\n",
              "    }\n",
              "</style>\n",
              "<table border=\"1\" class=\"dataframe\">\n",
              "  <thead>\n",
              "    <tr style=\"text-align: right;\">\n",
              "      <th></th>\n",
              "      <th>Order Date</th>\n",
              "      <th>Order ID</th>\n",
              "      <th>Payment Instrument Type</th>\n",
              "      <th>Website</th>\n",
              "      <th>Purchase Order Number</th>\n",
              "      <th>Ordering Customer Email</th>\n",
              "      <th>Shipment Date</th>\n",
              "      <th>Shipping Address Name</th>\n",
              "      <th>Shipping Address Street 1</th>\n",
              "      <th>Shipping Address Street 2</th>\n",
              "      <th>Shipping Address City</th>\n",
              "      <th>Shipping Address State</th>\n",
              "      <th>Shipping Address Zip</th>\n",
              "      <th>Order Status</th>\n",
              "      <th>Carrier Name &amp; Tracking Number</th>\n",
              "      <th>Subtotal</th>\n",
              "      <th>Shipping Charge</th>\n",
              "      <th>Tax Before Promotions</th>\n",
              "      <th>Total Promotions</th>\n",
              "      <th>Tax Charged</th>\n",
              "      <th>Total Charged</th>\n",
              "      <th>Buyer Name</th>\n",
              "      <th>Group Name</th>\n",
              "    </tr>\n",
              "  </thead>\n",
              "  <tbody>\n",
              "    <tr>\n",
              "      <th>0</th>\n",
              "      <td>04/01/19</td>\n",
              "      <td>112-0000000-0000001</td>\n",
              "      <td>Visa - 0001</td>\n",
              "      <td>Amazon.com</td>\n",
              "      <td>0.0</td>\n",
              "      <td>your_email@gmail.com</td>\n",
              "      <td>04/01/19</td>\n",
              "      <td>Your Name</td>\n",
              "      <td>1 YOUR STREET</td>\n",
              "      <td>0.0</td>\n",
              "      <td>ANYTOWN</td>\n",
              "      <td>ME</td>\n",
              "      <td>00001-0001</td>\n",
              "      <td>Shipped</td>\n",
              "      <td>USPS(0001)</td>\n",
              "      <td>$35.00</td>\n",
              "      <td>$0.00</td>\n",
              "      <td>$1.93</td>\n",
              "      <td>$0.00</td>\n",
              "      <td>$1.93</td>\n",
              "      <td>36.93</td>\n",
              "      <td>Your Name</td>\n",
              "      <td>0.0</td>\n",
              "    </tr>\n",
              "    <tr>\n",
              "      <th>1</th>\n",
              "      <td>04/01/19</td>\n",
              "      <td>112-0000000-0000002</td>\n",
              "      <td>Visa - 0001</td>\n",
              "      <td>Amazon.com</td>\n",
              "      <td>0.0</td>\n",
              "      <td>your_email@gmail.com</td>\n",
              "      <td>04/01/19</td>\n",
              "      <td>Your Name</td>\n",
              "      <td>1 YOUR STREET</td>\n",
              "      <td>0.0</td>\n",
              "      <td>ANYTOWN</td>\n",
              "      <td>ME</td>\n",
              "      <td>00001-0001</td>\n",
              "      <td>Shipped</td>\n",
              "      <td>USPS(0001)</td>\n",
              "      <td>$16.99</td>\n",
              "      <td>$0.00</td>\n",
              "      <td>$0.00</td>\n",
              "      <td>$0.00</td>\n",
              "      <td>$0.00</td>\n",
              "      <td>16.99</td>\n",
              "      <td>Your Name</td>\n",
              "      <td>0.0</td>\n",
              "    </tr>\n",
              "    <tr>\n",
              "      <th>2</th>\n",
              "      <td>04/01/19</td>\n",
              "      <td>112-0000000-0000003</td>\n",
              "      <td>Visa - 0001</td>\n",
              "      <td>Amazon.com</td>\n",
              "      <td>0.0</td>\n",
              "      <td>your_email@gmail.com</td>\n",
              "      <td>04/01/19</td>\n",
              "      <td>Your Name</td>\n",
              "      <td>1 YOUR STREET</td>\n",
              "      <td>0.0</td>\n",
              "      <td>ANYTOWN</td>\n",
              "      <td>ME</td>\n",
              "      <td>00001-0001</td>\n",
              "      <td>Shipped</td>\n",
              "      <td>USPS(0001)</td>\n",
              "      <td>$9.99</td>\n",
              "      <td>$0.00</td>\n",
              "      <td>$0.00</td>\n",
              "      <td>$0.00</td>\n",
              "      <td>$0.00</td>\n",
              "      <td>9.99</td>\n",
              "      <td>Your Name</td>\n",
              "      <td>0.0</td>\n",
              "    </tr>\n",
              "    <tr>\n",
              "      <th>3</th>\n",
              "      <td>04/04/19</td>\n",
              "      <td>112-0000000-0000004</td>\n",
              "      <td>Visa - 0001</td>\n",
              "      <td>Amazon.com</td>\n",
              "      <td>0.0</td>\n",
              "      <td>your_email@gmail.com</td>\n",
              "      <td>04/05/19</td>\n",
              "      <td>Your Name</td>\n",
              "      <td>1 YOUR STREET</td>\n",
              "      <td>0.0</td>\n",
              "      <td>ANYTOWN</td>\n",
              "      <td>ME</td>\n",
              "      <td>00001-0001</td>\n",
              "      <td>Shipped</td>\n",
              "      <td>UPS(0002)</td>\n",
              "      <td>$147.98</td>\n",
              "      <td>$0.00</td>\n",
              "      <td>$8.14</td>\n",
              "      <td>$0.00</td>\n",
              "      <td>$8.14</td>\n",
              "      <td>156.12</td>\n",
              "      <td>Your Name</td>\n",
              "      <td>0.0</td>\n",
              "    </tr>\n",
              "    <tr>\n",
              "      <th>4</th>\n",
              "      <td>04/05/19</td>\n",
              "      <td>112-0000000-0000005</td>\n",
              "      <td>Visa - 0001</td>\n",
              "      <td>Amazon.com</td>\n",
              "      <td>0.0</td>\n",
              "      <td>your_email@gmail.com</td>\n",
              "      <td>04/07/19</td>\n",
              "      <td>Your Name</td>\n",
              "      <td>1 YOUR STREET</td>\n",
              "      <td>0.0</td>\n",
              "      <td>ANYTOWN</td>\n",
              "      <td>ME</td>\n",
              "      <td>00001-0001</td>\n",
              "      <td>Shipped</td>\n",
              "      <td>USPS(0001)</td>\n",
              "      <td>$14.99</td>\n",
              "      <td>$0.00</td>\n",
              "      <td>$0.00</td>\n",
              "      <td>$0.00</td>\n",
              "      <td>$0.00</td>\n",
              "      <td>14.99</td>\n",
              "      <td>Your Name</td>\n",
              "      <td>0.0</td>\n",
              "    </tr>\n",
              "  </tbody>\n",
              "</table>\n",
              "</div>"
            ],
            "text/plain": [
              "  Order Date             Order ID  ... Buyer Name Group Name\n",
              "0   04/01/19  112-0000000-0000001  ...  Your Name        0.0\n",
              "1   04/01/19  112-0000000-0000002  ...  Your Name        0.0\n",
              "2   04/01/19  112-0000000-0000003  ...  Your Name        0.0\n",
              "3   04/04/19  112-0000000-0000004  ...  Your Name        0.0\n",
              "4   04/05/19  112-0000000-0000005  ...  Your Name        0.0\n",
              "\n",
              "[5 rows x 23 columns]"
            ]
          },
          "metadata": {},
          "execution_count": 7
        }
      ]
    },
    {
      "cell_type": "markdown",
      "metadata": {
        "id": "75580b08"
      },
      "source": [
        "Scroll over to the right in this table and you can see that we’ve done it: the dollar signs are all gone. Now it’s time for the fun part, or perhaps the scary part: finding out how much we’ve actually spent on Amazon over the years!"
      ],
      "id": "75580b08"
    },
    {
      "cell_type": "markdown",
      "metadata": {
        "id": "2f3b566f"
      },
      "source": [
        "# Calculating the Total Amount of Money Spent on Amazon"
      ],
      "id": "2f3b566f"
    },
    {
      "cell_type": "markdown",
      "metadata": {
        "id": "b0054261"
      },
      "source": [
        "Pandas includes some basic math functions that we can use on this column. Let’s start with .sum(), which will give us the total of every number in this column — in other words, the total we’ve spent on Amazon.\n",
        "\n"
      ],
      "id": "b0054261"
    },
    {
      "cell_type": "code",
      "metadata": {
        "id": "bafba0e9",
        "colab": {
          "base_uri": "https://localhost:8080/"
        },
        "outputId": "85ae4dbb-3f2c-4652-baf4-0b1cb6eadfcb"
      },
      "source": [
        "df[\"Total Charged\"].sum()"
      ],
      "id": "bafba0e9",
      "execution_count": 8,
      "outputs": [
        {
          "output_type": "execute_result",
          "data": {
            "text/plain": [
              "1777.7300000000002"
            ]
          },
          "metadata": {},
          "execution_count": 8
        }
      ]
    },
    {
      "cell_type": "markdown",
      "metadata": {
        "id": "ef1d77b3"
      },
      "source": [
        "There it is: $1,777.73. That’s how much money I have spent on Amazon, at least within the confines of this limited and edited data set.\n",
        "\n",
        "I don’t want to share the real total number I found when I analyzed the full 13 years of order history Amazon has for me, but it was…bigger. Did your total surprise you?"
      ],
      "id": "ef1d77b3"
    },
    {
      "cell_type": "markdown",
      "metadata": {
        "id": "06b33c81"
      },
      "source": [
        "# Calculating Other Things: Average Spend on Amazon, Biggest Purchase, Etc."
      ],
      "id": "06b33c81"
    },
    {
      "cell_type": "markdown",
      "metadata": {
        "id": "0129008f"
      },
      "source": [
        "Finding the total isn’t the only thing we can do now that we’ve got that column of data all cleaned up! Pandas allows us to very quickly make some other calculations. For example, what was the average purchase price? We can use .mean() to find out:"
      ],
      "id": "0129008f"
    },
    {
      "cell_type": "code",
      "metadata": {
        "id": "1cfddc17",
        "colab": {
          "base_uri": "https://localhost:8080/"
        },
        "outputId": "9e28f565-3425-451d-e060-f7c2aa6ae8d1"
      },
      "source": [
        "df[\"Total Charged\"].mean()"
      ],
      "id": "1cfddc17",
      "execution_count": 9,
      "outputs": [
        {
          "output_type": "execute_result",
          "data": {
            "text/plain": [
              "30.131016949152542"
            ]
          },
          "metadata": {},
          "execution_count": 9
        }
      ]
    },
    {
      "cell_type": "markdown",
      "metadata": {
        "id": "5ea5b842"
      },
      "source": [
        "My average spend per order, apparently, is about $30.\n",
        "\n",
        "Since looking at the mean/average can sometimes hide outliers, it’s nice to check out the median as well. We can use .median() to do that."
      ],
      "id": "5ea5b842"
    },
    {
      "cell_type": "code",
      "metadata": {
        "id": "25324274",
        "colab": {
          "base_uri": "https://localhost:8080/"
        },
        "outputId": "eb6f5489-027d-49c3-d788-cda4b0260279"
      },
      "source": [
        "df[\"Total Charged\"].median()"
      ],
      "id": "25324274",
      "execution_count": 10,
      "outputs": [
        {
          "output_type": "execute_result",
          "data": {
            "text/plain": [
              "15.95"
            ]
          },
          "metadata": {},
          "execution_count": 10
        }
      ]
    },
    {
      "cell_type": "markdown",
      "metadata": {
        "id": "82ffd93d"
      },
      "source": [
        "That’s interesting! My median spend is quite a bit lower than my average spend. Looks like I made a few expensive orders. Let’s see what the highest-priced order was by using max():\n",
        "\n",
        "\n"
      ],
      "id": "82ffd93d"
    },
    {
      "cell_type": "code",
      "metadata": {
        "id": "b45cf9a7",
        "colab": {
          "base_uri": "https://localhost:8080/"
        },
        "outputId": "09d5e57f-5f48-41c8-e0b1-4ae2179f2ff6"
      },
      "source": [
        "df[\"Total Charged\"].max()"
      ],
      "id": "b45cf9a7",
      "execution_count": 11,
      "outputs": [
        {
          "output_type": "execute_result",
          "data": {
            "text/plain": [
              "210.99"
            ]
          },
          "metadata": {},
          "execution_count": 11
        }
      ]
    },
    {
      "cell_type": "markdown",
      "metadata": {
        "id": "b49ec175"
      },
      "source": [
        "OK, my priciest order was $211. What about my lowest-priced order? We can use .min() to find that one:"
      ],
      "id": "b49ec175"
    },
    {
      "cell_type": "code",
      "metadata": {
        "id": "2b1d779b",
        "colab": {
          "base_uri": "https://localhost:8080/"
        },
        "outputId": "015710c2-5a6f-44e3-e210-d27f8865a890"
      },
      "source": [
        "df[\"Total Charged\"].min()"
      ],
      "id": "2b1d779b",
      "execution_count": 12,
      "outputs": [
        {
          "output_type": "execute_result",
          "data": {
            "text/plain": [
              "1.04"
            ]
          },
          "metadata": {},
          "execution_count": 12
        }
      ]
    },
    {
      "cell_type": "markdown",
      "metadata": {
        "id": "2410ae45"
      },
      "source": [
        "What on earth did I buy on Amazon that only cost $1? I can’t remember! (I could find that out in a different Amazon report, the Items report, but that’s bit more complicated and thus a topic for another time.)"
      ],
      "id": "2410ae45"
    },
    {
      "cell_type": "markdown",
      "metadata": {
        "id": "03093c03"
      },
      "source": [
        "# How Much Have I Paid in Sales Tax?"
      ],
      "id": "03093c03"
    },
    {
      "cell_type": "markdown",
      "metadata": {
        "id": "da4b214a"
      },
      "source": [
        "That’s a lot of interesting analysis of the total price I paid for each order, but what if I wanted to look into a different column? For example, what if I wanted to see how much I’ve paid in sales tax?\n",
        "\n",
        "That data’s stored in the Tax Charged column. This column hasn’t been cleaned yet, so it has the same problems that the Total Charged column did when we started.\n",
        "\n",
        "But here’s the beauty of programming: we’ve already written the code that can fix that. All we need to do is copy-paste our column-cleaning code from above, and replace \"Total Charged\" with \"Tax Charged\" to tell Python to perform those same operations on the \"Tax Charged\" column."
      ],
      "id": "da4b214a"
    },
    {
      "cell_type": "code",
      "metadata": {
        "id": "cabce6b0",
        "colab": {
          "base_uri": "https://localhost:8080/",
          "height": 438
        },
        "outputId": "c1ce09c8-7d73-4116-e87d-d6394414769b"
      },
      "source": [
        "df[\"Tax Charged\"] = df[\"Tax Charged\"].str.replace('$','').astype(float)\n",
        "df.head()"
      ],
      "id": "cabce6b0",
      "execution_count": 13,
      "outputs": [
        {
          "output_type": "execute_result",
          "data": {
            "text/html": [
              "<div>\n",
              "<style scoped>\n",
              "    .dataframe tbody tr th:only-of-type {\n",
              "        vertical-align: middle;\n",
              "    }\n",
              "\n",
              "    .dataframe tbody tr th {\n",
              "        vertical-align: top;\n",
              "    }\n",
              "\n",
              "    .dataframe thead th {\n",
              "        text-align: right;\n",
              "    }\n",
              "</style>\n",
              "<table border=\"1\" class=\"dataframe\">\n",
              "  <thead>\n",
              "    <tr style=\"text-align: right;\">\n",
              "      <th></th>\n",
              "      <th>Order Date</th>\n",
              "      <th>Order ID</th>\n",
              "      <th>Payment Instrument Type</th>\n",
              "      <th>Website</th>\n",
              "      <th>Purchase Order Number</th>\n",
              "      <th>Ordering Customer Email</th>\n",
              "      <th>Shipment Date</th>\n",
              "      <th>Shipping Address Name</th>\n",
              "      <th>Shipping Address Street 1</th>\n",
              "      <th>Shipping Address Street 2</th>\n",
              "      <th>Shipping Address City</th>\n",
              "      <th>Shipping Address State</th>\n",
              "      <th>Shipping Address Zip</th>\n",
              "      <th>Order Status</th>\n",
              "      <th>Carrier Name &amp; Tracking Number</th>\n",
              "      <th>Subtotal</th>\n",
              "      <th>Shipping Charge</th>\n",
              "      <th>Tax Before Promotions</th>\n",
              "      <th>Total Promotions</th>\n",
              "      <th>Tax Charged</th>\n",
              "      <th>Total Charged</th>\n",
              "      <th>Buyer Name</th>\n",
              "      <th>Group Name</th>\n",
              "    </tr>\n",
              "  </thead>\n",
              "  <tbody>\n",
              "    <tr>\n",
              "      <th>0</th>\n",
              "      <td>04/01/19</td>\n",
              "      <td>112-0000000-0000001</td>\n",
              "      <td>Visa - 0001</td>\n",
              "      <td>Amazon.com</td>\n",
              "      <td>0.0</td>\n",
              "      <td>your_email@gmail.com</td>\n",
              "      <td>04/01/19</td>\n",
              "      <td>Your Name</td>\n",
              "      <td>1 YOUR STREET</td>\n",
              "      <td>0.0</td>\n",
              "      <td>ANYTOWN</td>\n",
              "      <td>ME</td>\n",
              "      <td>00001-0001</td>\n",
              "      <td>Shipped</td>\n",
              "      <td>USPS(0001)</td>\n",
              "      <td>$35.00</td>\n",
              "      <td>$0.00</td>\n",
              "      <td>$1.93</td>\n",
              "      <td>$0.00</td>\n",
              "      <td>1.93</td>\n",
              "      <td>36.93</td>\n",
              "      <td>Your Name</td>\n",
              "      <td>0.0</td>\n",
              "    </tr>\n",
              "    <tr>\n",
              "      <th>1</th>\n",
              "      <td>04/01/19</td>\n",
              "      <td>112-0000000-0000002</td>\n",
              "      <td>Visa - 0001</td>\n",
              "      <td>Amazon.com</td>\n",
              "      <td>0.0</td>\n",
              "      <td>your_email@gmail.com</td>\n",
              "      <td>04/01/19</td>\n",
              "      <td>Your Name</td>\n",
              "      <td>1 YOUR STREET</td>\n",
              "      <td>0.0</td>\n",
              "      <td>ANYTOWN</td>\n",
              "      <td>ME</td>\n",
              "      <td>00001-0001</td>\n",
              "      <td>Shipped</td>\n",
              "      <td>USPS(0001)</td>\n",
              "      <td>$16.99</td>\n",
              "      <td>$0.00</td>\n",
              "      <td>$0.00</td>\n",
              "      <td>$0.00</td>\n",
              "      <td>0.00</td>\n",
              "      <td>16.99</td>\n",
              "      <td>Your Name</td>\n",
              "      <td>0.0</td>\n",
              "    </tr>\n",
              "    <tr>\n",
              "      <th>2</th>\n",
              "      <td>04/01/19</td>\n",
              "      <td>112-0000000-0000003</td>\n",
              "      <td>Visa - 0001</td>\n",
              "      <td>Amazon.com</td>\n",
              "      <td>0.0</td>\n",
              "      <td>your_email@gmail.com</td>\n",
              "      <td>04/01/19</td>\n",
              "      <td>Your Name</td>\n",
              "      <td>1 YOUR STREET</td>\n",
              "      <td>0.0</td>\n",
              "      <td>ANYTOWN</td>\n",
              "      <td>ME</td>\n",
              "      <td>00001-0001</td>\n",
              "      <td>Shipped</td>\n",
              "      <td>USPS(0001)</td>\n",
              "      <td>$9.99</td>\n",
              "      <td>$0.00</td>\n",
              "      <td>$0.00</td>\n",
              "      <td>$0.00</td>\n",
              "      <td>0.00</td>\n",
              "      <td>9.99</td>\n",
              "      <td>Your Name</td>\n",
              "      <td>0.0</td>\n",
              "    </tr>\n",
              "    <tr>\n",
              "      <th>3</th>\n",
              "      <td>04/04/19</td>\n",
              "      <td>112-0000000-0000004</td>\n",
              "      <td>Visa - 0001</td>\n",
              "      <td>Amazon.com</td>\n",
              "      <td>0.0</td>\n",
              "      <td>your_email@gmail.com</td>\n",
              "      <td>04/05/19</td>\n",
              "      <td>Your Name</td>\n",
              "      <td>1 YOUR STREET</td>\n",
              "      <td>0.0</td>\n",
              "      <td>ANYTOWN</td>\n",
              "      <td>ME</td>\n",
              "      <td>00001-0001</td>\n",
              "      <td>Shipped</td>\n",
              "      <td>UPS(0002)</td>\n",
              "      <td>$147.98</td>\n",
              "      <td>$0.00</td>\n",
              "      <td>$8.14</td>\n",
              "      <td>$0.00</td>\n",
              "      <td>8.14</td>\n",
              "      <td>156.12</td>\n",
              "      <td>Your Name</td>\n",
              "      <td>0.0</td>\n",
              "    </tr>\n",
              "    <tr>\n",
              "      <th>4</th>\n",
              "      <td>04/05/19</td>\n",
              "      <td>112-0000000-0000005</td>\n",
              "      <td>Visa - 0001</td>\n",
              "      <td>Amazon.com</td>\n",
              "      <td>0.0</td>\n",
              "      <td>your_email@gmail.com</td>\n",
              "      <td>04/07/19</td>\n",
              "      <td>Your Name</td>\n",
              "      <td>1 YOUR STREET</td>\n",
              "      <td>0.0</td>\n",
              "      <td>ANYTOWN</td>\n",
              "      <td>ME</td>\n",
              "      <td>00001-0001</td>\n",
              "      <td>Shipped</td>\n",
              "      <td>USPS(0001)</td>\n",
              "      <td>$14.99</td>\n",
              "      <td>$0.00</td>\n",
              "      <td>$0.00</td>\n",
              "      <td>$0.00</td>\n",
              "      <td>0.00</td>\n",
              "      <td>14.99</td>\n",
              "      <td>Your Name</td>\n",
              "      <td>0.0</td>\n",
              "    </tr>\n",
              "  </tbody>\n",
              "</table>\n",
              "</div>"
            ],
            "text/plain": [
              "  Order Date             Order ID  ... Buyer Name Group Name\n",
              "0   04/01/19  112-0000000-0000001  ...  Your Name        0.0\n",
              "1   04/01/19  112-0000000-0000002  ...  Your Name        0.0\n",
              "2   04/01/19  112-0000000-0000003  ...  Your Name        0.0\n",
              "3   04/04/19  112-0000000-0000004  ...  Your Name        0.0\n",
              "4   04/05/19  112-0000000-0000005  ...  Your Name        0.0\n",
              "\n",
              "[5 rows x 23 columns]"
            ]
          },
          "metadata": {},
          "execution_count": 13
        }
      ]
    },
    {
      "cell_type": "code",
      "metadata": {
        "id": "637c77d8",
        "colab": {
          "base_uri": "https://localhost:8080/"
        },
        "outputId": "4fdece41-3b1e-40db-ed9a-c2bd8cbfa254"
      },
      "source": [
        "df[\"Tax Charged\"].sum()"
      ],
      "id": "637c77d8",
      "execution_count": 14,
      "outputs": [
        {
          "output_type": "execute_result",
          "data": {
            "text/plain": [
              "52.60999999999999"
            ]
          },
          "metadata": {},
          "execution_count": 14
        }
      ]
    },
    {
      "cell_type": "markdown",
      "metadata": {
        "id": "ea07a9ca"
      },
      "source": [
        "Apparently, about $52.61 of the total money I spent on Amazon went towards taxes. The tax rate on different items varies — we can see in the DataFrame preview above that some items did not charge any tax at all. But if we wanted to, we could figure out the overall tax rate by simply dividing our \"Total Charged\" sum from our \"Tax Charged\" sum, like so:"
      ],
      "id": "ea07a9ca"
    },
    {
      "cell_type": "code",
      "metadata": {
        "id": "e52ee9dd",
        "colab": {
          "base_uri": "https://localhost:8080/"
        },
        "outputId": "d7afd231-73e6-4d1b-f8ae-2f66970db548"
      },
      "source": [
        "df[\"Tax Charged\"].sum() / df[\"Total Charged\"].sum()"
      ],
      "id": "e52ee9dd",
      "execution_count": 15,
      "outputs": [
        {
          "output_type": "execute_result",
          "data": {
            "text/plain": [
              "0.02959392033660904"
            ]
          },
          "metadata": {},
          "execution_count": 15
        }
      ]
    },
    {
      "cell_type": "markdown",
      "metadata": {
        "id": "c8d59359"
      },
      "source": [
        "During this time period, I paid an overall effective sales tax rate of about 2.9%.\n",
        "\n",
        "So far, the analysis we’ve done here is pretty cool, and we’ve learned something about our Amazon spending habits. If you’ve never written any code before and you’d like to learn more of this sort of thing, I’d recommend you stop here and sign up for our Python for Data Science Fundamentals course. It’s free, and it will give you a great foundation in the fundamentals so that soon, you’ll feel comfortable taking on projects like this, and even more complicated ones, totally on your own.\n",
        "\n",
        "If you’d like a bit more of a challenge right now, though, there’s a lot more we can do with this data set. Let’s try to get a picture of how our spending habits have changed over time by doing some analysis that involves those date columns!"
      ],
      "id": "c8d59359"
    },
    {
      "cell_type": "markdown",
      "metadata": {
        "id": "e75334ac"
      },
      "source": [
        "# Analyzing Amazon Spending Over Time"
      ],
      "id": "e75334ac"
    },
    {
      "cell_type": "markdown",
      "metadata": {
        "id": "70b79b95"
      },
      "source": [
        "Before we can work with dates in Python, we need to convert them to a datetime data type, so that the computer can recognize them as dates. Luckily, with pandas this is quite straightforward! We can use .pd.to_datetime() and specify the column we want to modify within those brackets to tell pandas to read that column as dates.\n",
        "\n",
        "As before, we want to make sure we’re storing this change in our df dataframe, so we’ll specify that we’re modifying the df['Order Date'] column, and then assign that to the “Order Date” column in our df variable so that the old \"Order Date\" column is replaced with our changed version.\n",
        "\n",
        "We really only need to see one row to make sure our dates have changed here, so let’s feed a custom argument to our old friend df.head(). We can customize the number of rows it displays. If we put the number 1 inside those parentheses, it will display one row of the data set."
      ],
      "id": "70b79b95"
    },
    {
      "cell_type": "code",
      "metadata": {
        "id": "2297dc12",
        "colab": {
          "base_uri": "https://localhost:8080/",
          "height": 438
        },
        "outputId": "fac141e6-2a13-43e7-ed17-36c519529471"
      },
      "source": [
        "df['Order Date'] = pd.to_datetime(df['Order Date'])\n",
        "df.head()"
      ],
      "id": "2297dc12",
      "execution_count": 16,
      "outputs": [
        {
          "output_type": "execute_result",
          "data": {
            "text/html": [
              "<div>\n",
              "<style scoped>\n",
              "    .dataframe tbody tr th:only-of-type {\n",
              "        vertical-align: middle;\n",
              "    }\n",
              "\n",
              "    .dataframe tbody tr th {\n",
              "        vertical-align: top;\n",
              "    }\n",
              "\n",
              "    .dataframe thead th {\n",
              "        text-align: right;\n",
              "    }\n",
              "</style>\n",
              "<table border=\"1\" class=\"dataframe\">\n",
              "  <thead>\n",
              "    <tr style=\"text-align: right;\">\n",
              "      <th></th>\n",
              "      <th>Order Date</th>\n",
              "      <th>Order ID</th>\n",
              "      <th>Payment Instrument Type</th>\n",
              "      <th>Website</th>\n",
              "      <th>Purchase Order Number</th>\n",
              "      <th>Ordering Customer Email</th>\n",
              "      <th>Shipment Date</th>\n",
              "      <th>Shipping Address Name</th>\n",
              "      <th>Shipping Address Street 1</th>\n",
              "      <th>Shipping Address Street 2</th>\n",
              "      <th>Shipping Address City</th>\n",
              "      <th>Shipping Address State</th>\n",
              "      <th>Shipping Address Zip</th>\n",
              "      <th>Order Status</th>\n",
              "      <th>Carrier Name &amp; Tracking Number</th>\n",
              "      <th>Subtotal</th>\n",
              "      <th>Shipping Charge</th>\n",
              "      <th>Tax Before Promotions</th>\n",
              "      <th>Total Promotions</th>\n",
              "      <th>Tax Charged</th>\n",
              "      <th>Total Charged</th>\n",
              "      <th>Buyer Name</th>\n",
              "      <th>Group Name</th>\n",
              "    </tr>\n",
              "  </thead>\n",
              "  <tbody>\n",
              "    <tr>\n",
              "      <th>0</th>\n",
              "      <td>2019-04-01</td>\n",
              "      <td>112-0000000-0000001</td>\n",
              "      <td>Visa - 0001</td>\n",
              "      <td>Amazon.com</td>\n",
              "      <td>0.0</td>\n",
              "      <td>your_email@gmail.com</td>\n",
              "      <td>04/01/19</td>\n",
              "      <td>Your Name</td>\n",
              "      <td>1 YOUR STREET</td>\n",
              "      <td>0.0</td>\n",
              "      <td>ANYTOWN</td>\n",
              "      <td>ME</td>\n",
              "      <td>00001-0001</td>\n",
              "      <td>Shipped</td>\n",
              "      <td>USPS(0001)</td>\n",
              "      <td>$35.00</td>\n",
              "      <td>$0.00</td>\n",
              "      <td>$1.93</td>\n",
              "      <td>$0.00</td>\n",
              "      <td>1.93</td>\n",
              "      <td>36.93</td>\n",
              "      <td>Your Name</td>\n",
              "      <td>0.0</td>\n",
              "    </tr>\n",
              "    <tr>\n",
              "      <th>1</th>\n",
              "      <td>2019-04-01</td>\n",
              "      <td>112-0000000-0000002</td>\n",
              "      <td>Visa - 0001</td>\n",
              "      <td>Amazon.com</td>\n",
              "      <td>0.0</td>\n",
              "      <td>your_email@gmail.com</td>\n",
              "      <td>04/01/19</td>\n",
              "      <td>Your Name</td>\n",
              "      <td>1 YOUR STREET</td>\n",
              "      <td>0.0</td>\n",
              "      <td>ANYTOWN</td>\n",
              "      <td>ME</td>\n",
              "      <td>00001-0001</td>\n",
              "      <td>Shipped</td>\n",
              "      <td>USPS(0001)</td>\n",
              "      <td>$16.99</td>\n",
              "      <td>$0.00</td>\n",
              "      <td>$0.00</td>\n",
              "      <td>$0.00</td>\n",
              "      <td>0.00</td>\n",
              "      <td>16.99</td>\n",
              "      <td>Your Name</td>\n",
              "      <td>0.0</td>\n",
              "    </tr>\n",
              "    <tr>\n",
              "      <th>2</th>\n",
              "      <td>2019-04-01</td>\n",
              "      <td>112-0000000-0000003</td>\n",
              "      <td>Visa - 0001</td>\n",
              "      <td>Amazon.com</td>\n",
              "      <td>0.0</td>\n",
              "      <td>your_email@gmail.com</td>\n",
              "      <td>04/01/19</td>\n",
              "      <td>Your Name</td>\n",
              "      <td>1 YOUR STREET</td>\n",
              "      <td>0.0</td>\n",
              "      <td>ANYTOWN</td>\n",
              "      <td>ME</td>\n",
              "      <td>00001-0001</td>\n",
              "      <td>Shipped</td>\n",
              "      <td>USPS(0001)</td>\n",
              "      <td>$9.99</td>\n",
              "      <td>$0.00</td>\n",
              "      <td>$0.00</td>\n",
              "      <td>$0.00</td>\n",
              "      <td>0.00</td>\n",
              "      <td>9.99</td>\n",
              "      <td>Your Name</td>\n",
              "      <td>0.0</td>\n",
              "    </tr>\n",
              "    <tr>\n",
              "      <th>3</th>\n",
              "      <td>2019-04-04</td>\n",
              "      <td>112-0000000-0000004</td>\n",
              "      <td>Visa - 0001</td>\n",
              "      <td>Amazon.com</td>\n",
              "      <td>0.0</td>\n",
              "      <td>your_email@gmail.com</td>\n",
              "      <td>04/05/19</td>\n",
              "      <td>Your Name</td>\n",
              "      <td>1 YOUR STREET</td>\n",
              "      <td>0.0</td>\n",
              "      <td>ANYTOWN</td>\n",
              "      <td>ME</td>\n",
              "      <td>00001-0001</td>\n",
              "      <td>Shipped</td>\n",
              "      <td>UPS(0002)</td>\n",
              "      <td>$147.98</td>\n",
              "      <td>$0.00</td>\n",
              "      <td>$8.14</td>\n",
              "      <td>$0.00</td>\n",
              "      <td>8.14</td>\n",
              "      <td>156.12</td>\n",
              "      <td>Your Name</td>\n",
              "      <td>0.0</td>\n",
              "    </tr>\n",
              "    <tr>\n",
              "      <th>4</th>\n",
              "      <td>2019-04-05</td>\n",
              "      <td>112-0000000-0000005</td>\n",
              "      <td>Visa - 0001</td>\n",
              "      <td>Amazon.com</td>\n",
              "      <td>0.0</td>\n",
              "      <td>your_email@gmail.com</td>\n",
              "      <td>04/07/19</td>\n",
              "      <td>Your Name</td>\n",
              "      <td>1 YOUR STREET</td>\n",
              "      <td>0.0</td>\n",
              "      <td>ANYTOWN</td>\n",
              "      <td>ME</td>\n",
              "      <td>00001-0001</td>\n",
              "      <td>Shipped</td>\n",
              "      <td>USPS(0001)</td>\n",
              "      <td>$14.99</td>\n",
              "      <td>$0.00</td>\n",
              "      <td>$0.00</td>\n",
              "      <td>$0.00</td>\n",
              "      <td>0.00</td>\n",
              "      <td>14.99</td>\n",
              "      <td>Your Name</td>\n",
              "      <td>0.0</td>\n",
              "    </tr>\n",
              "  </tbody>\n",
              "</table>\n",
              "</div>"
            ],
            "text/plain": [
              "  Order Date             Order ID  ... Buyer Name Group Name\n",
              "0 2019-04-01  112-0000000-0000001  ...  Your Name        0.0\n",
              "1 2019-04-01  112-0000000-0000002  ...  Your Name        0.0\n",
              "2 2019-04-01  112-0000000-0000003  ...  Your Name        0.0\n",
              "3 2019-04-04  112-0000000-0000004  ...  Your Name        0.0\n",
              "4 2019-04-05  112-0000000-0000005  ...  Your Name        0.0\n",
              "\n",
              "[5 rows x 23 columns]"
            ]
          },
          "metadata": {},
          "execution_count": 16
        }
      ]
    },
    {
      "cell_type": "markdown",
      "metadata": {
        "id": "375dbcd6"
      },
      "source": [
        "From that one row, we can see that the date formatting has changed from 2019/04/01 to 2019-04-01. That’s a good sign that our change to datetime has worked, and we can proceed to the next step of our analysis.\n",
        "\n",
        "One thing that might be interesting to look at is how much was spent on each particular day in this data set. That’s an analysis that would be easiest to look at visually, perhaps in the form of a bar graph. Luckily, the pandas and matplotlib packages make it possible for us to build and view a variety of chart types right inside a Jupyter Notebook!\n",
        "\n",
        "We’ll start with a little Jupyter Notebooks magic that will allow us to display charts in our noteboot. (Note: when you run this code cell, nothing will visibly change, but it will enable matplotlib to display charts in your notebook.)\n",
        "\n"
      ],
      "id": "375dbcd6"
    },
    {
      "cell_type": "code",
      "metadata": {
        "id": "be63cdaa"
      },
      "source": [
        "%matplotlib inline"
      ],
      "id": "be63cdaa",
      "execution_count": 17,
      "outputs": []
    },
    {
      "cell_type": "markdown",
      "metadata": {
        "id": "8d2a169d"
      },
      "source": [
        "Great! We can make a basic bar graph in a pretty straightforward way using df.plot.bar(). We can pass the desired X and Y axis columns to this function as arguments, and we can add other arguments as well to do things like rotate the x-axis labels. but take a look at what happens when we chart our dataframe as-is:"
      ],
      "id": "8d2a169d"
    },
    {
      "cell_type": "code",
      "metadata": {
        "id": "fb71b05c",
        "colab": {
          "base_uri": "https://localhost:8080/",
          "height": 392
        },
        "outputId": "71d61d27-2dab-4dd9-a4bb-814cea399972"
      },
      "source": [
        "df.plot.bar(x='Order Date', y='Total Charged', rot=90)"
      ],
      "id": "fb71b05c",
      "execution_count": 18,
      "outputs": [
        {
          "output_type": "execute_result",
          "data": {
            "text/plain": [
              "<matplotlib.axes._subplots.AxesSubplot at 0x7f11fdb23d90>"
            ]
          },
          "metadata": {},
          "execution_count": 18
        },
        {
          "output_type": "display_data",
          "data": {
            "image/png": "[encoded data removed]",
            "text/plain": [
              "<Figure size 432x288 with 1 Axes>"
            ]
          },
          "metadata": {
            "needs_background": "light"
          }
        }
      ]
    },
    {
      "cell_type": "markdown",
      "metadata": {
        "id": "1c962fdc"
      },
      "source": [
        "That chart is a little small, and it’s hard to see whether we’ve really gotten what we want. Let’s make it bigger so that we can read the data more easily.\n",
        "\n",
        "We can do that by adding an argument to our plotting code called figsize. This allows us to define the size of the graph (fig is short for figure) by width and height. The units it uses aren’t particularly intuitive, but (20, 10) is a good default to start from for most charts, and then we can adjust further if needed.\n",
        "\n",
        "All we need to do is add figsize=(20,10) to the arguments we already have in our code. Note that each separate argument is separated with a comma."
      ],
      "id": "1c962fdc"
    },
    {
      "cell_type": "code",
      "metadata": {
        "id": "6f6a795c",
        "colab": {
          "base_uri": "https://localhost:8080/",
          "height": 683
        },
        "outputId": "12ec5910-29a6-4005-b54d-66ac671857b1"
      },
      "source": [
        "df.plot.bar(x='Order Date', y='Total Charged', rot=90, figsize=(20,10))"
      ],
      "id": "6f6a795c",
      "execution_count": 19,
      "outputs": [
        {
          "output_type": "execute_result",
          "data": {
            "text/plain": [
              "<matplotlib.axes._subplots.AxesSubplot at 0x7f11fd91f250>"
            ]
          },
          "metadata": {},
          "execution_count": 19
        },
        {
          "output_type": "display_data",
          "data": {
            "image/png": "[encoded data removed]",
            "text/plain": [
              "<Figure size 1440x720 with 1 Axes>"
            ]
          },
          "metadata": {
            "needs_background": "light"
          }
        }
      ]
    },
    {
      "cell_type": "markdown",
      "metadata": {
        "id": "4491c7a3"
      },
      "source": [
        "That’s easier to read! But if we take a close look at the chart above, we can spot a problem: when multiple orders were placed on the same day, each order is getting a separate bar in the bar chart. Look, for example, at the first three bars on the chart — all three of them are for April 1, representing three separate orders placed that day.\n",
        "\n",
        "That’s not really what we were trying to visualize. We want to see how much was spent each day. Each bar should represent a day, not a single order, so if there was more than one order on that day, the totals charged for those orders should be added together.\n",
        "\n",
        "We can do that using another built-in pandas function: df.groupby().\n",
        "\n",
        "The syntax for this is a little bit complex, but we can break what we want to do down into two parts: 1. We want to group our data by 'Order Date', so that all the orders that share the same date are counted in a single row (i.e., we want one row for April 1, rather than three). 2. We want to get the sum of the prices paid in 'Total Charged' column for each date and make it the value for 'Total Charged' in the relevant date’s row (i.e., we want the value of 'Total Charged' in the April 1 row to be the sum total of the three orders placed that day).\n",
        "\n",
        "Since we’re grouping by the order date, we’ll start with df.groupby('Order Date'). The next thing we need to do is take the sum of the 'Total Charged' column in that group and set the make that our new 'Total Charged' column, so we’ll follow the first part with .sum()[\"Total Charged\"].\n",
        "\n",
        "We want to assign the result of that, which will be a pandas Series, to a new variable. Let’s call it daily_orders.\n",
        "\n",
        "Here’s what it looks like all together:"
      ],
      "id": "4491c7a3"
    },
    {
      "cell_type": "code",
      "metadata": {
        "id": "e26c1ced",
        "colab": {
          "base_uri": "https://localhost:8080/"
        },
        "outputId": "d38784bb-a7d5-40ae-faa0-10254cf9a51c"
      },
      "source": [
        "daily_orders = df.groupby('Order Date').sum()[\"Total Charged\"]\n",
        "daily_orders.head()"
      ],
      "id": "e26c1ced",
      "execution_count": 20,
      "outputs": [
        {
          "output_type": "execute_result",
          "data": {
            "text/plain": [
              "Order Date\n",
              "2019-04-01     63.91\n",
              "2019-04-04    156.12\n",
              "2019-04-05     27.64\n",
              "2019-04-07     40.63\n",
              "2019-04-08     44.99\n",
              "Name: Total Charged, dtype: float64"
            ]
          },
          "metadata": {},
          "execution_count": 20
        }
      ]
    },
    {
      "cell_type": "markdown",
      "metadata": {
        "id": "11d5a2cc"
      },
      "source": [
        "As we can see, the results of .head() look a bit different here. That’s because this is a Series rather than a DataFrame. It looks like it has two columns, but it actually only has one: the 'Order Date' column entries are actually the index labels for our sums.\n",
        "\n",
        "Understanding precisely how this works isn’t important for this tutorial, but if you scroll up to one of your earlier df.head() printouts, you may notice that along the far left side of the table are descending numbers: 0, 1, 2, 3, 4… These numbers are index labels.\n",
        "\n",
        "Thankfully, pandas is well equipped to plot a Series with dates as index labels, so we don’t have to do anything else with our data. And if we check the numbers in our earlier DataFrame, we can see that our sums here are correct. April 1, 2019 had three separate orders, $36.93, $16.99, and $9.99. The sum of these three is $63.91, which is the value for April 1 in daily_orders. Perfect!\n",
        "\n",
        "It’s time to make it into a bar graph. We can do that with Series.plot.bar(), and since our series only has one column and one set of index labels, we don’t even need to define our x and y axes. Pandas will do that automatically."
      ],
      "id": "11d5a2cc"
    },
    {
      "cell_type": "code",
      "metadata": {
        "id": "ba1da743",
        "colab": {
          "base_uri": "https://localhost:8080/",
          "height": 683
        },
        "outputId": "4ce1efa4-c9e1-4280-a035-f920477fe301"
      },
      "source": [
        "daily_orders.plot.bar(figsize=(20,10))"
      ],
      "id": "ba1da743",
      "execution_count": 21,
      "outputs": [
        {
          "output_type": "execute_result",
          "data": {
            "text/plain": [
              "<matplotlib.axes._subplots.AxesSubplot at 0x7f12047b4610>"
            ]
          },
          "metadata": {},
          "execution_count": 21
        },
        {
          "output_type": "display_data",
          "data": {
            "image/png": "[encoded data removed]",
            "text/plain": [
              "<Figure size 1440x720 with 1 Axes>"
            ]
          },
          "metadata": {
            "needs_background": "light"
          }
        }
      ]
    },
    {
      "cell_type": "markdown",
      "metadata": {
        "id": "7e3dbbc7"
      },
      "source": [
        "Awesome! This chart shows us something our previous analysis hasn’t: although the biggest single order was just over $ 200, there was a single day in July where several orders totaled up to well over $ 400.\n",
        "\n",
        "Clearly, there are still a lot of ways we could improve on this chart. We could remove the time codes at the bottom, add a Y label and a chart title, insert dates with no orders to get a more consistent picture of when orders were placed, etc.\n",
        "\n",
        "But our goal here wasn’t to create a picture perfect chart. It was to use some quick programming to mine some insight out of a large data set. And we’ve learned a lot! We’ve learned:\n",
        "\n",
        "* How much I spent on Amazon during this period.\n",
        "* What my highest, lowest, and average order totals were.\n",
        "* How much tax I paid, and the effective sales tax rate I paid.\n",
        "* How my spending fluctuated over time\n",
        "* On which days I spent the most money.\n",
        "\n",
        "And we did all of that with fewer than thirty total lines of code!"
      ],
      "id": "7e3dbbc7"
    }
  ]
}